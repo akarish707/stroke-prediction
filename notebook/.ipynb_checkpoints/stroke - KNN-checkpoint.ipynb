{
 "cells": [
  {
   "cell_type": "markdown",
   "id": "22e60fcc",
   "metadata": {},
   "source": [
    "# Data Preprocessing"
   ]
  },
  {
   "cell_type": "code",
   "execution_count": 2,
   "id": "2bec515b",
   "metadata": {},
   "outputs": [],
   "source": [
    "import pandas as pd\n",
    "import matplotlib.pyplot as plt\n",
    "import seaborn as sns\n",
    "import numpy as np\n",
    "\n",
    "import plotly.graph_objects as go\n",
    "import plotly.express as px\n",
    "\n",
    "from sklearn.metrics import classification_report, confusion_matrix, accuracy_score \n",
    "\n",
    "from sklearn.preprocessing import LabelEncoder, StandardScaler\n",
    "from sklearn.linear_model import LinearRegression\n",
    "\n",
    "from imblearn.over_sampling import SMOTE\n",
    "\n",
    "df = pd.read_csv(\"../healthcare-dataset-stroke-data.csv\")"
   ]
  },
  {
   "cell_type": "markdown",
   "id": "2e92b50f",
   "metadata": {},
   "source": [
    "\n",
    "### Column Descriptions :\n",
    "\n",
    "- id: unique identifier\n",
    "- gender: \"Male\", \"Female\" or \"Other\"\n",
    "- age: age of the patient\n",
    "- hypertension: 0 if the patient doesn't have hypertension, 1 if the patient has hypertension\n",
    "- heart_disease: 0 if the patient doesn't have any heart diseases, 1 if the patient has a heart disease\n",
    "- ever_married: \"No\" or \"Yes\"\n",
    "- work_type: \"children\", \"Govt_jov\", \"Never_worked\", \"Private\" or \"Self-employed\"\n",
    "- Residence_type: \"Rural\" or \"Urban\"\n",
    "- avg_glucose_level: average glucose level in blood\n",
    "- bmi: body mass index\n",
    "- smoking_status: \"formerly smoked\", \"never smoked\", \"smokes\" or \"Unknown\"*\n",
    "- stroke: 1 if the patient had a stroke or 0 if not\n",
    "\n",
    "Note: \"Unknown\" in smoking_status means that the information is unavailable for this patient\n"
   ]
  },
  {
   "cell_type": "code",
   "execution_count": null,
   "id": "7eb95db8",
   "metadata": {},
   "outputs": [],
   "source": [
    "# import pandas_profiling as pp\n",
    "# pp.ProfileReport(df)"
   ]
  },
  {
   "cell_type": "code",
   "execution_count": null,
   "id": "f97e2650",
   "metadata": {},
   "outputs": [],
   "source": [
    "df.head()"
   ]
  },
  {
   "cell_type": "code",
   "execution_count": null,
   "id": "da6112b4",
   "metadata": {},
   "outputs": [],
   "source": [
    "df.shape"
   ]
  },
  {
   "cell_type": "code",
   "execution_count": null,
   "id": "19f82fe5",
   "metadata": {},
   "outputs": [],
   "source": [
    "df = df.drop(\"id\", axis=1)\n",
    "df.head()"
   ]
  },
  {
   "cell_type": "code",
   "execution_count": null,
   "id": "cbcf7e3e",
   "metadata": {},
   "outputs": [],
   "source": [
    "df.isnull().sum()"
   ]
  },
  {
   "cell_type": "code",
   "execution_count": null,
   "id": "6e36808b",
   "metadata": {},
   "outputs": [],
   "source": [
    "plt.title('Missing Value Status')\n",
    "ax = sns.heatmap(df.isna().sum().to_frame(),annot=True,fmt='d',cmap='YlGnBu')\n",
    "ax.set_xlabel('Amount Missing')\n",
    "plt.show()"
   ]
  },
  {
   "cell_type": "code",
   "execution_count": null,
   "id": "1495b88c",
   "metadata": {},
   "outputs": [],
   "source": [
    "# fill missing bmi value with linear regression of age and gender\n",
    "X_bmi = df[['age','gender',\"avg_glucose_level\", 'bmi']].copy()\n",
    "\n",
    "le_gender = LabelEncoder()\n",
    "X_bmi[\"gender\"] =  le_gender.fit_transform(X_bmi[\"gender\"])\n",
    "\n",
    "Missing = X_bmi[X_bmi[\"bmi\"].isna()]\n",
    "X_bmi = X_bmi[~X_bmi.bmi.isna()]\n",
    "Y_bmi = X_bmi.pop('bmi')\n",
    "\n",
    "linear_reg = LinearRegression()\n",
    "linear_reg.fit(X_bmi,Y_bmi)\n",
    "\n",
    "predicted_bmi = pd.Series(linear_reg.predict(Missing[['age','gender',\"avg_glucose_level\"]]),index=Missing.index)\n",
    "df.loc[Missing.index,'bmi'] = predicted_bmi\n",
    "df[\"bmi\"] = df['bmi'].round(decimals = 1)\n",
    "df.head()"
   ]
  },
  {
   "cell_type": "markdown",
   "id": "3195902b",
   "metadata": {},
   "source": [
    "# Exploratory Data Analysis"
   ]
  },
  {
   "cell_type": "markdown",
   "id": "8402f09b",
   "metadata": {},
   "source": [
    "## Analysis of the whole data set"
   ]
  },
  {
   "cell_type": "code",
   "execution_count": null,
   "id": "bb1a620f",
   "metadata": {},
   "outputs": [],
   "source": [
    "columns = ['gender','hypertension','heart_disease','ever_married','work_type','Residence_type','smoking_status','stroke']\n",
    "for i in range(len(columns)):\n",
    "    print(\"Unique value of column {column}:\".format(column=columns[i]))\n",
    "    print(df[columns[i]].value_counts(),\"\\n\")"
   ]
  },
  {
   "cell_type": "code",
   "execution_count": null,
   "id": "417193d1",
   "metadata": {},
   "outputs": [],
   "source": []
  },
  {
   "cell_type": "code",
   "execution_count": null,
   "id": "ea2479d6",
   "metadata": {},
   "outputs": [],
   "source": []
  },
  {
   "cell_type": "code",
   "execution_count": null,
   "id": "c90931f9",
   "metadata": {},
   "outputs": [],
   "source": [
    "labels =df['stroke'].value_counts(sort = True).index\n",
    "sizes = df['stroke'].value_counts(sort = True)\n",
    "\n",
    "colors = [\"lightblue\",\"red\"]\n",
    " \n",
    "plt.figure(figsize=(8,10))\n",
    "plt.pie(sizes, explode=(0.05,0), labels=labels, colors=colors, autopct='%1.1f%%', startangle=90,)\n",
    "\n",
    "plt.title('Number of stroke in the dataset')\n",
    "plt.show()"
   ]
  },
  {
   "cell_type": "code",
   "execution_count": null,
   "id": "58d01730",
   "metadata": {},
   "outputs": [],
   "source": [
    "def plot_hist(col, bins=30, title=\"\",xlabel=\"\",ax=None):\n",
    "    sns.histplot(col, bins=bins,ax=ax)\n",
    "    ax.set_title(f'Histogram of {title}',fontsize=20)\n",
    "    ax.set_xlabel(xlabel)\n",
    "\n",
    "fig, axes = plt.subplots(1,3,figsize=(11,7),constrained_layout=True)\n",
    "plot_hist(df.bmi,\n",
    "          title='Bmi',\n",
    "          xlabel=\"Level of the BMI\",\n",
    "          ax=axes[0])\n",
    "plot_hist(df.age,\n",
    "          bins=30,\n",
    "          title='Age',\n",
    "          xlabel='Age',\n",
    "          ax=axes[1])\n",
    "plot_hist(df.avg_glucose_level,\n",
    "          title='Serum Creatinine', \n",
    "          xlabel='Level of serum creatinine in the blood (mg/dL)',\n",
    "          ax=axes[2])\n",
    "\n",
    "plt.show()"
   ]
  },
  {
   "cell_type": "code",
   "execution_count": null,
   "id": "c485df6c",
   "metadata": {},
   "outputs": [],
   "source": [
    "sns.catplot(y=\"work_type\", \n",
    "            hue=\"stroke\", \n",
    "            kind=\"count\",\n",
    "            palette=\"pastel\", \n",
    "            edgecolor=\".6\",\n",
    "            data=df)"
   ]
  },
  {
   "cell_type": "code",
   "execution_count": null,
   "id": "bfbf0560",
   "metadata": {},
   "outputs": [],
   "source": [
    "sns.catplot(y=\"smoking_status\", \n",
    "            hue=\"stroke\", \n",
    "            kind=\"count\",\n",
    "            palette=\"pastel\", \n",
    "            edgecolor=\".6\",\n",
    "            data=df)"
   ]
  },
  {
   "cell_type": "code",
   "execution_count": null,
   "id": "dfe064be",
   "metadata": {},
   "outputs": [],
   "source": [
    "plt.figure(figsize=(17,7))\n",
    "sns.catplot(x=\"gender\", y=\"stroke\", hue=\"heart_disease\", palette=\"pastel\", kind=\"bar\", data=df)\n",
    "sns.catplot(x=\"gender\", y=\"stroke\", hue=\"Residence_type\", palette=\"pastel\", kind=\"bar\", data=df)\n",
    "sns.catplot(x=\"gender\", y=\"stroke\", hue=\"hypertension\", palette=\"pastel\", kind=\"bar\", data=df)\n",
    "plt.show()"
   ]
  },
  {
   "cell_type": "code",
   "execution_count": null,
   "id": "c77e79ff",
   "metadata": {
    "scrolled": false
   },
   "outputs": [],
   "source": [
    "len_data = len(df)\n",
    "len_w = len(df[df[\"gender\"]==\"Male\"])\n",
    "len_m = len_data - len_w\n",
    "\n",
    "men_stroke = len(df.loc[(df[\"stroke\"]==1)&(df['gender']==\"Male\")])\n",
    "men_no_stroke = len_m - men_stroke\n",
    "\n",
    "women_stroke = len(df.loc[(df[\"stroke\"]==1) & (df['gender']==\"Female\")])\n",
    "women_no_stroke = len_w - women_stroke\n",
    "\n",
    "labels = ['Men with stroke','Men healthy','Women with stroke','Women healthy']\n",
    "values = [men_stroke, men_no_stroke, women_stroke, women_no_stroke]\n",
    "\n",
    "fig = go.Figure(data=[go.Pie(labels=labels, values=values,textinfo='label+percent',hole=0.4)])\n",
    "fig.update_layout(\n",
    "    title_text=\"Distribution of stroke EVENT according to their gender\")\n",
    "fig.show()"
   ]
  },
  {
   "cell_type": "code",
   "execution_count": null,
   "id": "77c83936",
   "metadata": {},
   "outputs": [],
   "source": [
    "fig = px.parallel_categories(df[['gender', 'age', 'hypertension', 'heart_disease', 'ever_married',\n",
    "       'work_type', 'Residence_type',\n",
    "       'smoking_status', 'stroke']], color='stroke', color_continuous_scale=px.colors.sequential.Inferno)\n",
    "fig.show()"
   ]
  },
  {
   "cell_type": "code",
   "execution_count": null,
   "id": "3d850588",
   "metadata": {},
   "outputs": [],
   "source": [
    "le = LabelEncoder()\n",
    "en_df = df.apply(le.fit_transform)\n",
    "en_df.head()\n",
    "\n",
    "features=['gender', 'age', 'hypertension', 'heart_disease', 'ever_married',\n",
    "       'work_type', 'Residence_type',\n",
    "       'smoking_status']\n",
    "from matplotlib.offsetbox import AnchoredText\n",
    "correlation_table = []\n",
    "for cols in features:\n",
    "    y = en_df[\"stroke\"]\n",
    "    x = en_df[cols]\n",
    "    corr = np.corrcoef(x, y)[1][0]\n",
    "    dict ={\n",
    "        'Features': cols,\n",
    "        'Correlation coefficient' : corr,\n",
    "        'Feat_type': 'numerical'\n",
    "    }\n",
    "    correlation_table.append(dict)\n",
    "dF1 = pd.DataFrame(correlation_table)\n",
    "fig = plt.figure(figsize=(10,6))\n",
    "ax = sns.barplot(x=\"Correlation coefficient\", y=\"Features\", \n",
    "                     data=dF1.sort_values(\"Correlation coefficient\", ascending=False),\n",
    "                     palette='viridis', alpha=0.75)\n",
    "ax.grid()\n",
    "\n",
    "title =  'Correlation features with target'\n",
    "sub_title = 'In comparison with categorical features \\\n",
    "\\nnumericals are less correlated with target.'\n",
    "\n",
    "plt.gcf().text(0.05, 1.02, title, fontsize=24)\n",
    "#plt.gcf().text(0.05, 0.9, sub_title, fontsize=14)\n",
    "\n",
    "at1 = AnchoredText(sub_title,\n",
    "                   loc='lower left', frameon=True,\n",
    "                   bbox_to_anchor=(-0.1, 1.01),\n",
    "                   bbox_transform=ax.transAxes,\n",
    "                   #prop=dict(size=8),\n",
    "                   )\n",
    "at1.patch.set_boxstyle(\"round,pad=0.,rounding_size=0.2\")\n",
    "ax.add_artist(at1)"
   ]
  },
  {
   "cell_type": "code",
   "execution_count": null,
   "id": "819d3506",
   "metadata": {},
   "outputs": [],
   "source": [
    "fig, ax = plt.subplots()\n",
    "corr = en_df.corr()[['stroke']].sort_values(by='stroke', ascending=False)\n",
    "sns.heatmap(corr, vmin=-1, vmax=1, ax=ax, annot=True, cmap = 'BrBG')\n",
    "plt.figure(figsize=(8, 12))"
   ]
  },
  {
   "cell_type": "code",
   "execution_count": null,
   "id": "6392c1e9",
   "metadata": {},
   "outputs": [],
   "source": [
    "plt.figure(figsize=(16,8))\n",
    "sns.heatmap(en_df.corr(),cmap='YlGnBu')"
   ]
  },
  {
   "cell_type": "code",
   "execution_count": null,
   "id": "4cc2ae4f",
   "metadata": {},
   "outputs": [],
   "source": []
  },
  {
   "cell_type": "markdown",
   "id": "2626be5d",
   "metadata": {},
   "source": [
    "# Prediction\n",
    "\n",
    "Prediction using KNN"
   ]
  },
  {
   "cell_type": "code",
   "execution_count": null,
   "id": "74110a78",
   "metadata": {},
   "outputs": [],
   "source": [
    "# from sklearn.utils import shuffle\n",
    "# df = shuffle(df, random_state=1)\n",
    "# df"
   ]
  },
  {
   "cell_type": "markdown",
   "id": "96066fa6",
   "metadata": {},
   "source": [
    "### Encode Categorical Variable"
   ]
  },
  {
   "cell_type": "code",
   "execution_count": null,
   "id": "637a42db",
   "metadata": {},
   "outputs": [],
   "source": [
    "from sklearn.preprocessing import LabelEncoder\n",
    "le_gender = LabelEncoder()\n",
    "le_marriage = LabelEncoder()\n",
    "le_work = LabelEncoder()\n",
    "le_residence = LabelEncoder()\n",
    "le_smoke = LabelEncoder()"
   ]
  },
  {
   "cell_type": "code",
   "execution_count": null,
   "id": "e19ca419",
   "metadata": {},
   "outputs": [],
   "source": [
    "df[\"gender\"] =  le_gender.fit_transform(df[\"gender\"])\n",
    "df[\"ever_married\"] = le_marriage.fit_transform(df[\"ever_married\"])\n",
    "df[\"work_type\"] = le_work.fit_transform(df[\"work_type\"])\n",
    "df[\"Residence_type\"] = le_residence.fit_transform(df[\"Residence_type\"])\n",
    "df[\"smoking_status\"] = le_smoke.fit_transform(df[\"smoking_status\"])"
   ]
  },
  {
   "cell_type": "code",
   "execution_count": null,
   "id": "0680fe4e",
   "metadata": {},
   "outputs": [],
   "source": [
    "X = df.iloc[:,:-1]\n",
    "y = df.iloc[:,-1]"
   ]
  },
  {
   "cell_type": "code",
   "execution_count": null,
   "id": "0ed7542e",
   "metadata": {},
   "outputs": [],
   "source": [
    "X"
   ]
  },
  {
   "cell_type": "code",
   "execution_count": null,
   "id": "b930abb2",
   "metadata": {},
   "outputs": [],
   "source": [
    "y"
   ]
  },
  {
   "cell_type": "markdown",
   "id": "581ebaf4",
   "metadata": {},
   "source": [
    "### Test and training data splitting"
   ]
  },
  {
   "cell_type": "code",
   "execution_count": null,
   "id": "419cbfb3",
   "metadata": {},
   "outputs": [],
   "source": [
    "from sklearn.model_selection import train_test_split\n",
    "X_train, X_test, y_train, y_test = train_test_split(X, y, test_size=0.2, random_state=1)"
   ]
  },
  {
   "cell_type": "markdown",
   "id": "160e4723",
   "metadata": {},
   "source": [
    "### Standard scaling"
   ]
  },
  {
   "cell_type": "code",
   "execution_count": null,
   "id": "3ceaf2df",
   "metadata": {},
   "outputs": [],
   "source": [
    "sc = StandardScaler()\n",
    "X_train = sc.fit_transform(X_train)\n",
    "X_test = sc.transform(X_test)"
   ]
  },
  {
   "cell_type": "markdown",
   "id": "1b4e5e59",
   "metadata": {},
   "source": [
    "### SMOTE( Synthetic Minority Over-Sampling Technique)\n",
    "\n",
    "Used to handle imbalance data\n",
    "\n",
    "ini dipake buat memperbanyak data yang jumlahnya sedikit, makanya row yang stroke (1) jadi 3899"
   ]
  },
  {
   "cell_type": "code",
   "execution_count": null,
   "id": "53d615c7",
   "metadata": {},
   "outputs": [],
   "source": [
    "print(\"Before OverSampling, counts of label '1': {}\".format(sum(y_train==1)))\n",
    "print(\"Before OverSampling, counts of label '0': {} \\n\".format(sum(y_train==0)))\n",
    "\n",
    "sm = SMOTE(random_state=2)\n",
    "X_train_res, y_train_res = sm.fit_resample(X_train, y_train.ravel())"
   ]
  },
  {
   "cell_type": "code",
   "execution_count": null,
   "id": "4f44c895",
   "metadata": {},
   "outputs": [],
   "source": [
    "print('After OverSampling, the shape of X_train: {}'.format(X_train_res.shape))\n",
    "print('After OverSampling, the shape of y_train: {} \\n'.format(y_train_res.shape))\n",
    "\n",
    "print(\"After OverSampling, counts of label '1': {}\".format(sum(y_train_res==1)))\n",
    "print(\"After OverSampling, counts of label '0': {}\".format(sum(y_train_res==0)))"
   ]
  },
  {
   "cell_type": "markdown",
   "id": "9452e8c0",
   "metadata": {},
   "source": [
    "### KNN"
   ]
  },
  {
   "cell_type": "code",
   "execution_count": null,
   "id": "4a5bb0af",
   "metadata": {},
   "outputs": [],
   "source": [
    "from sklearn.neighbors import KNeighborsClassifier  \n",
    "best_k = -1\n",
    "best_test_score = -1\n",
    "\n",
    "for i in range(1,11):    \n",
    "    classifier= KNeighborsClassifier(n_neighbors=i, p=1, weights = \"uniform\")  \n",
    "#     classifier.fit(X_train, y_train)\n",
    "    classifier.fit(X_train_res, y_train_res.ravel())\n",
    "    \n",
    "    y_pred= classifier.predict(X_test)\n",
    "    \n",
    "    print(\"Neighbour = {k}\".format(k = i))\n",
    "#     print(\"The training accuracy: {score}\".format(score = (classifier.score(X_train,y_train)*100).round(2)))\n",
    "    print(\"The training accuracy: {score}\".format(score = (classifier.score(X_train_res,y_train_res.ravel())*100).round(2)))\n",
    "    print('The Test accuracy: {score}'.format(score = (classifier.score(X_test,y_test)*100).round(2)))\n",
    "    \n",
    "    if classifier.score(X_test,y_test) > best_test_score:\n",
    "        best_test_score = classifier.score(X_test, y_test)\n",
    "        best_k = i\n",
    "\n",
    "print(\"\\n\\nBest k-neighbor= {k}\".format(k = best_k))"
   ]
  },
  {
   "cell_type": "code",
   "execution_count": null,
   "id": "036035c1",
   "metadata": {},
   "outputs": [],
   "source": [
    "classifier= KNeighborsClassifier(n_neighbors=best_k, p=2)  \n",
    "classifier.fit(X_train_res, y_train_res.ravel())\n",
    "y_pred= classifier.predict(X_test)"
   ]
  },
  {
   "cell_type": "code",
   "execution_count": null,
   "id": "7f763c88",
   "metadata": {},
   "outputs": [],
   "source": [
    "cnf_matrix = metrics.confusion_matrix(y_test, y_pred)\n",
    "\n",
    "ax= plt.subplot()\n",
    "\n",
    "# Confusion matrix menggunakan seaborn\n",
    "\n",
    "sns.heatmap(cnf_matrix, annot=True, fmt='g', ax=ax, cmap=\"YlGnBu\");  #annot=True to annotate cells, ftm='g' to disable scientific notation\n",
    "\n",
    "# labels, title and ticks\n",
    "ax.set_xlabel('Predicted labels');\n",
    "ax.set_ylabel('True labels'); \n",
    "ax.set_title('Confusion Matrix'); \n",
    "ax.xaxis.set_ticklabels(['Not Stroke(0)', 'Stroke(1)']); \n",
    "ax.yaxis.set_ticklabels(['Not Stroke(0)', 'Stroke(1)']);"
   ]
  },
  {
   "cell_type": "code",
   "execution_count": null,
   "id": "e254f267",
   "metadata": {},
   "outputs": [],
   "source": [
    "print(classification_report(y_test, y_pred))\n",
    "print('Accuracy Score: ',accuracy_score(y_test,y_pred))"
   ]
  },
  {
   "cell_type": "code",
   "execution_count": null,
   "id": "a687c2bb",
   "metadata": {},
   "outputs": [],
   "source": [
    "report = classification_report(y_test, y_pred)\n",
    "report"
   ]
  },
  {
   "cell_type": "code",
   "execution_count": null,
   "id": "9f5146c4",
   "metadata": {},
   "outputs": [],
   "source": [
    "X_test"
   ]
  },
  {
   "cell_type": "code",
   "execution_count": 3,
   "id": "d3bac0cd",
   "metadata": {},
   "outputs": [
    {
     "ename": "SyntaxError",
     "evalue": "invalid character '‘' (U+2018) (1168912092.py, line 2)",
     "output_type": "error",
     "traceback": [
      "\u001b[1;36m  Input \u001b[1;32mIn [3]\u001b[1;36m\u001b[0m\n\u001b[1;33m    x = data[[‘X’,’Y’]].values\u001b[0m\n\u001b[1;37m              ^\u001b[0m\n\u001b[1;31mSyntaxError\u001b[0m\u001b[1;31m:\u001b[0m invalid character '‘' (U+2018)\n"
     ]
    }
   ],
   "source": [
    "def knn_comparison(data, k):\n",
    "    x = data[[‘X’,’Y’]].values\n",
    "    y = data[‘class’].astype(int).values\n",
    "    clf = neighbors.KNeighborsClassifier(n_neighbors=k)\n",
    "    clf.fit(x, y)# Plotting decision region\n",
    "    plot_decision_regions(x, y, clf=clf, legend=2)# Adding axes annotations\n",
    "    plt.xlabel(‘X’)\n",
    "    plt.ylabel(‘Y’)\n",
    "    plt.title(‘Knn with K=’+ str(k))\n",
    "    plt.show()"
   ]
  },
  {
   "cell_type": "code",
   "execution_count": null,
   "id": "d0d049b3",
   "metadata": {},
   "outputs": [],
   "source": []
  },
  {
   "cell_type": "code",
   "execution_count": null,
   "id": "23be9c03",
   "metadata": {},
   "outputs": [],
   "source": []
  },
  {
   "cell_type": "code",
   "execution_count": null,
   "id": "f7ce18e8",
   "metadata": {},
   "outputs": [],
   "source": []
  },
  {
   "cell_type": "code",
   "execution_count": null,
   "id": "e2e5b666",
   "metadata": {},
   "outputs": [],
   "source": [
    "lalala"
   ]
  },
  {
   "cell_type": "markdown",
   "id": "45557e00",
   "metadata": {},
   "source": [
    "# Preparing to export models for web app"
   ]
  },
  {
   "cell_type": "code",
   "execution_count": null,
   "id": "f734ccbf",
   "metadata": {},
   "outputs": [],
   "source": [
    "# gender \tage \thypertension \theart_disease \tever_married \twork_type \tResidence_type \tavg_glucose_level \tbmi \tsmoking_status \tstroke\n",
    "# Male \t67.0 \t0 \t1 \tYes \tPrivate \tUrban \t228.69 \t36.6 \tformerly smoked \t1\n",
    "\n",
    "# array = np.array([[\"Male\", 67.0, 1, 1, \"Yes\", \"Private\", \"Urban\", 228.69, 36.6, \"smokes\"]])\n",
    "\n",
    "array = np.array([[\"Male\", 80, 1, 1, \"Yes\", \"Private\", \"Urban\", 228.69, 40, \"smokes\"]])\n",
    "\n",
    "array[:, 0] =  le_gender.transform(array[:, 0])\n",
    "array[:, 4] = le_marriage.transform(array[:, 4])\n",
    "array[:, 5] = le_work.transform(array[:, 5])\n",
    "array[:, 6] = le_residence.transform(array[:,6])\n",
    "array[:, 9] = le_smoke.transform(array[:,9])\n",
    "\n",
    "index_values = [0]\n",
    "column_values = [\"gender\", \"age\", \"hypertension\", \"heart_disease\",\"ever_married\", \"work_type\", \"Residence_type\",\"avg_glucose_level\", \"bmi\", \"smoking_status\"]\n",
    "X = pd.DataFrame(data = array, \n",
    "                 index = index_values,\n",
    "                columns = column_values)\n",
    "# X = pd.DataFrame(data = array, \n",
    "#                  index = index_values,\n",
    "#                 )\n",
    "\n",
    "X = sc.transform(X)\n",
    "X"
   ]
  },
  {
   "cell_type": "code",
   "execution_count": null,
   "id": "c4671156",
   "metadata": {},
   "outputs": [],
   "source": [
    "y_pred = classifier.predict(X)\n",
    "y_pred"
   ]
  },
  {
   "cell_type": "code",
   "execution_count": null,
   "id": "c33e02e7",
   "metadata": {},
   "outputs": [],
   "source": [
    "import pickle\n",
    "import joblib"
   ]
  },
  {
   "cell_type": "code",
   "execution_count": null,
   "id": "24d0f57b",
   "metadata": {},
   "outputs": [],
   "source": [
    "data = {\"model\": classifier, \n",
    "        \"le_gender\": le_gender, \n",
    "        \"le_marriage\": le_marriage, \n",
    "        \"le_work\": le_work, \n",
    "        \"le_residence\": le_residence,\n",
    "        \"le_smoke\": le_smoke\n",
    "       }\n",
    "\n",
    "with open(\"model_knn.pkl\", \"wb\") as file:\n",
    "    pickle.dump(data,file)\n",
    "\n",
    "joblib.dump(sc, \"scaler.pkl\") "
   ]
  },
  {
   "cell_type": "code",
   "execution_count": null,
   "id": "2d87df1e",
   "metadata": {},
   "outputs": [],
   "source": [
    "with open(\"model_knn.pkl\", \"rb\") as file:\n",
    "    data = pickle.load(file)\n",
    "    \n",
    "sc = joblib.load(\"scaler.pkl\")\n",
    "\n",
    "classifier_loaded = data[\"model\"]\n",
    "le_gender = data[\"le_gender\"]\n",
    "le_marriage = data[\"le_marriage\"]\n",
    "le_work = data[\"le_work\"]\n",
    "le_residence = data[\"le_residence\"]\n",
    "le_smoke = data[\"le_smoke\"]\n",
    "\n",
    "array = np.array([[\"Male\", 50, 1, 1, \"Yes\", \"Private\", \"Urban\", 228.69, 30, \"smokes\"]])\n",
    "\n",
    "array[:, 0] =  le_gender.transform(array[:, 0])\n",
    "array[:, 4] = le_marriage.transform(array[:, 4])\n",
    "array[:, 5] = le_work.transform(array[:, 5])\n",
    "array[:, 6] = le_residence.transform(array[:,6])\n",
    "array[:, 9] = le_smoke.transform(array[:,9])\n",
    "\n",
    "index_values = [0]\n",
    "column_values = [\"gender\", \"age\", \"hypertension\", \"heart_disease\",\"ever_married\", \"work_type\", \"Residence_type\",\"avg_glucose_level\", \"bmi\", \"smoking_status\"]\n",
    "\n",
    "X = pd.DataFrame(data = array, \n",
    "                 index = index_values,\n",
    "                columns = column_values)\n",
    "# X = pd.DataFrame(data = array, \n",
    "#                  index = index_values,\n",
    "#                 )\n",
    "X = sc.transform(X)\n",
    "X"
   ]
  },
  {
   "cell_type": "code",
   "execution_count": null,
   "id": "33136619",
   "metadata": {},
   "outputs": [],
   "source": [
    "y_pred = classifier_loaded.predict(X)\n",
    "y_pred"
   ]
  },
  {
   "cell_type": "code",
   "execution_count": null,
   "id": "725c94b9",
   "metadata": {},
   "outputs": [],
   "source": []
  }
 ],
 "metadata": {
  "kernelspec": {
   "display_name": "Python 3 (ipykernel)",
   "language": "python",
   "name": "python3"
  },
  "language_info": {
   "codemirror_mode": {
    "name": "ipython",
    "version": 3
   },
   "file_extension": ".py",
   "mimetype": "text/x-python",
   "name": "python",
   "nbconvert_exporter": "python",
   "pygments_lexer": "ipython3",
   "version": "3.9.12"
  }
 },
 "nbformat": 4,
 "nbformat_minor": 5
}
